{
 "cells": [
  {
   "cell_type": "code",
   "execution_count": 327,
   "id": "7a008aac-b0e6-4abd-a4c1-b73b5a3990e2",
   "metadata": {},
   "outputs": [],
   "source": [
    "import numpy as np\n",
    "import matplotlib.pyplot as plt\n",
    "import tensorflow as tf\n",
    "from tensorflow.keras.layers import Dense\n",
    "from tensorflow.keras.models import Sequential\n",
    "from tensorflow.keras.datasets import mnist\n",
    "from sklearn.model_selection import train_test_split"
   ]
  },
  {
   "cell_type": "code",
   "execution_count": 328,
   "id": "07c9cfb5-e3aa-4560-b718-f0d9fada4622",
   "metadata": {},
   "outputs": [],
   "source": [
    "np.set_printoptions(precision = 2)"
   ]
  },
  {
   "cell_type": "code",
   "execution_count": 329,
   "id": "9ddfa2ab-88ce-4bab-a365-03c4420cbdcd",
   "metadata": {},
   "outputs": [],
   "source": [
    "#load data\n",
    "\n",
    "(X_train,y_train), (X_test,y_test) = mnist.load_data()"
   ]
  },
  {
   "cell_type": "code",
   "execution_count": 330,
   "id": "ba5da6f1-8373-457e-8313-009808146197",
   "metadata": {},
   "outputs": [
    {
     "name": "stdout",
     "output_type": "stream",
     "text": [
      "(60000, 28, 28)\n",
      "(60000,)\n",
      "(10000, 28, 28)\n",
      "(10000,)\n"
     ]
    }
   ],
   "source": [
    "print(X_train.shape)\n",
    "print(y_train.shape)\n",
    "print(X_test.shape)\n",
    "print(y_test.shape)"
   ]
  },
  {
   "cell_type": "code",
   "execution_count": 331,
   "id": "6b8baf19-bed4-4404-9bc0-f0887d89e9f5",
   "metadata": {},
   "outputs": [
    {
     "data": {
      "text/plain": [
       "Text(0.5, 1.0, '9')"
      ]
     },
     "execution_count": 331,
     "metadata": {},
     "output_type": "execute_result"
    },
    {
     "data": {
      "image/png": "[encoded data removed]",
      "text/plain": [
       "<Figure size 200x200 with 1 Axes>"
      ]
     },
     "metadata": {},
     "output_type": "display_data"
    }
   ],
   "source": [
    "#Display a random sample\n",
    "\n",
    "x_45 = X_train[45]\n",
    "plt.figure(figsize =(2,2))\n",
    "plt.imshow(x_45,cmap = 'gray')\n",
    "plt.axis('off')\n",
    "plt.title(f'{y_train[45]}')"
   ]
  },
  {
   "cell_type": "code",
   "execution_count": 332,
   "id": "a8f92d50-1c8f-4b45-9c73-1e57e9aa5c0f",
   "metadata": {},
   "outputs": [],
   "source": [
    "#Reshaping the image data making pixel values, its features\n",
    "#Normalizing by dividing by the hignest pixel value 255, making pixel values into values between 0 and 1.\n",
    "\n",
    "X_train = X_train.reshape(len(X_train),28*28)/255\n",
    "X_test = X_test.reshape(len(X_test),28*28)/255"
   ]
  },
  {
   "cell_type": "code",
   "execution_count": 333,
   "id": "cc72ea68-9eb4-4698-a6f8-7fc6dce68b86",
   "metadata": {},
   "outputs": [],
   "source": [
    "X_val,X_test,y_val,y_test = train_test_split(X_test,y_test,test_size = 0.5,random_state = 42)"
   ]
  },
  {
   "cell_type": "code",
   "execution_count": 334,
   "id": "7c00d24f-7a3e-4d96-9ed4-c532ff2118fa",
   "metadata": {},
   "outputs": [
    {
     "name": "stdout",
     "output_type": "stream",
     "text": [
      "(5000, 784)\n",
      "(5000,)\n",
      "(5000, 784)\n",
      "(5000,)\n"
     ]
    }
   ],
   "source": [
    "print(X_val.shape)\n",
    "print(y_val.shape)\n",
    "print(X_test.shape)\n",
    "print(y_test.shape)"
   ]
  },
  {
   "cell_type": "code",
   "execution_count": 335,
   "id": "0d57f8c9-dc87-4d7d-8463-a8c5beacd275",
   "metadata": {},
   "outputs": [
    {
     "data": {
      "text/plain": [
       "((60000,), (5000,))"
      ]
     },
     "execution_count": 335,
     "metadata": {},
     "output_type": "execute_result"
    }
   ],
   "source": [
    "y_train.shape,y_test.shape"
   ]
  },
  {
   "cell_type": "code",
   "execution_count": 336,
   "id": "19a055b6-ceca-4c94-a33a-b32474b97268",
   "metadata": {},
   "outputs": [],
   "source": [
    "# Model Building\n",
    "\n",
    "tf.random.set_seed(1) #for reproducability of random results.\n",
    "\n",
    "model = Sequential([\n",
    "    tf.keras.Input(shape = (X_train.shape[1],)),\n",
    "    Dense(units = 32,activation = 'relu',name = 'L1'),\n",
    "    Dense(units = 64,activation = 'relu',name = 'L2'),\n",
    "    Dense(units = 10,activation = 'linear',name = 'L3'),\n",
    "])"
   ]
  },
  {
   "cell_type": "code",
   "execution_count": 337,
   "id": "df5d7762-fb66-493e-8e5a-42d82b99ff17",
   "metadata": {},
   "outputs": [],
   "source": [
    "# Compiling Model\n",
    "\n",
    "model.compile(\n",
    "    loss = tf.keras.losses.SparseCategoricalCrossentropy(from_logits = True),\n",
    "    optimizer = tf.keras.optimizers.Adam(0.001),\n",
    "    metrics = ['accuracy']\n",
    ")"
   ]
  },
  {
   "cell_type": "code",
   "execution_count": 338,
   "id": "5d779802-094b-4fbf-ac86-698e9a279d9e",
   "metadata": {},
   "outputs": [
    {
     "name": "stdout",
     "output_type": "stream",
     "text": [
      "Model: \"sequential_6\"\n",
      "_________________________________________________________________\n",
      " Layer (type)                Output Shape              Param #   \n",
      "=================================================================\n",
      " L1 (Dense)                  (None, 32)                25120     \n",
      "                                                                 \n",
      " L2 (Dense)                  (None, 64)                2112      \n",
      "                                                                 \n",
      " L3 (Dense)                  (None, 10)                650       \n",
      "                                                                 \n",
      "=================================================================\n",
      "Total params: 27,882\n",
      "Trainable params: 27,882\n",
      "Non-trainable params: 0\n",
      "_________________________________________________________________\n"
     ]
    }
   ],
   "source": [
    "model.summary()"
   ]
  },
  {
   "cell_type": "code",
   "execution_count": 339,
   "id": "e681b8f3-6732-4de6-b6a9-eaa8c1f9a66a",
   "metadata": {},
   "outputs": [
    {
     "name": "stdout",
     "output_type": "stream",
     "text": [
      "Epoch 1/10\n",
      "235/235 [==============================] - 4s 12ms/step - loss: 0.6033 - accuracy: 0.8336 - val_loss: 0.2601 - val_accuracy: 0.9246\n",
      "Epoch 2/10\n",
      "235/235 [==============================] - 2s 10ms/step - loss: 0.2379 - accuracy: 0.9315 - val_loss: 0.2066 - val_accuracy: 0.9372\n",
      "Epoch 3/10\n",
      "235/235 [==============================] - 2s 10ms/step - loss: 0.1912 - accuracy: 0.9450 - val_loss: 0.1757 - val_accuracy: 0.9480\n",
      "Epoch 4/10\n",
      "235/235 [==============================] - 2s 10ms/step - loss: 0.1636 - accuracy: 0.9530 - val_loss: 0.1637 - val_accuracy: 0.9524\n",
      "Epoch 5/10\n",
      "235/235 [==============================] - 2s 10ms/step - loss: 0.1442 - accuracy: 0.9584 - val_loss: 0.1424 - val_accuracy: 0.9596\n",
      "Epoch 6/10\n",
      "235/235 [==============================] - 2s 9ms/step - loss: 0.1262 - accuracy: 0.9628 - val_loss: 0.1328 - val_accuracy: 0.9592\n",
      "Epoch 7/10\n",
      "235/235 [==============================] - 2s 9ms/step - loss: 0.1142 - accuracy: 0.9660 - val_loss: 0.1287 - val_accuracy: 0.9602\n",
      "Epoch 8/10\n",
      "235/235 [==============================] - 2s 10ms/step - loss: 0.1048 - accuracy: 0.9687 - val_loss: 0.1149 - val_accuracy: 0.9630\n",
      "Epoch 9/10\n",
      "235/235 [==============================] - 2s 10ms/step - loss: 0.0966 - accuracy: 0.9707 - val_loss: 0.1106 - val_accuracy: 0.9662\n",
      "Epoch 10/10\n",
      "235/235 [==============================] - 2s 9ms/step - loss: 0.0889 - accuracy: 0.9732 - val_loss: 0.1052 - val_accuracy: 0.9668\n"
     ]
    }
   ],
   "source": [
    "#training the model\n",
    "\n",
    "train_hist = model.fit(X_train,y_train,\n",
    "          epochs = 10,\n",
    "          verbose = 1,\n",
    "          batch_size = 256,\n",
    "          validation_data = (X_val,y_val)\n",
    "         )"
   ]
  },
  {
   "cell_type": "code",
   "execution_count": 340,
   "id": "debec90e-1f82-4749-8826-ea1b0f19bc67",
   "metadata": {},
   "outputs": [
    {
     "data": {
      "image/png": "[encoded data removed]",
      "text/plain": [
       "<Figure size 400x400 with 1 Axes>"
      ]
     },
     "metadata": {},
     "output_type": "display_data"
    }
   ],
   "source": [
    "plt.figure(figsize = (4,4))\n",
    "plt.plot(train_hist.epoch,train_hist.history['loss'],c = 'r',label = 'Training loss')\n",
    "plt.plot(train_hist.epoch,train_hist.history['val_loss'],c = 'b',label = 'Validation loss')\n",
    "plt.title('Training & Validation Loss')\n",
    "plt.xlabel('Epochs')\n",
    "plt.ylabel('Loss')\n",
    "plt.xticks(np.arange(0,11,2))\n",
    "plt.legend()\n",
    "plt.show()"
   ]
  },
  {
   "cell_type": "code",
   "execution_count": 341,
   "id": "022d9a6a-2113-4319-ab56-8b5c42634248",
   "metadata": {},
   "outputs": [
    {
     "name": "stdout",
     "output_type": "stream",
     "text": [
      "157/157 [==============================] - 1s 4ms/step\n"
     ]
    }
   ],
   "source": [
    "#Predict \n",
    "pred = model.predict(X_test) #reshaping to make 2D"
   ]
  },
  {
   "cell_type": "code",
   "execution_count": 342,
   "id": "d3cb1be6-5174-4ebc-83d2-d27f0e3052d5",
   "metadata": {},
   "outputs": [
    {
     "data": {
      "text/plain": [
       "array([6, 2, 3, 7, 2], dtype=int64)"
      ]
     },
     "execution_count": 342,
     "metadata": {},
     "output_type": "execute_result"
    }
   ],
   "source": [
    "pred_class = np.argmax(pred_sft,axis = 1)\n",
    "pred_class[:5]"
   ]
  },
  {
   "cell_type": "code",
   "execution_count": 343,
   "id": "c8496f7c-eed4-4121-b6b6-e080043134d8",
   "metadata": {},
   "outputs": [],
   "source": [
    "pred_sft = tf.nn.softmax(pred).numpy()"
   ]
  },
  {
   "cell_type": "markdown",
   "id": "428c8294-600c-4c96-b8f1-3a4677ac51ed",
   "metadata": {},
   "source": [
    "### Testing the Model"
   ]
  },
  {
   "cell_type": "code",
   "execution_count": 366,
   "id": "834dc28b-38e2-4a77-bda5-0039a979a2bf",
   "metadata": {},
   "outputs": [
    {
     "data": {
      "image/png": "[encoded data removed]",
      "text/plain": [
       "<Figure size 1000x1000 with 5 Axes>"
      ]
     },
     "metadata": {},
     "output_type": "display_data"
    }
   ],
   "source": [
    "fig,ax = plt.subplots(1,5,figsize = (10,10))\n",
    "test = np.random.randint(0,X_test.shape[0],5)\n",
    "for i,j in enumerate(test):\n",
    "    ax[i].imshow(X_test[j].reshape(28,28),cmap = 'gray')\n",
    "    ax[i].set_title(f'Actual: {y_test[j]} Pred: {pred_class[j]}')\n",
    "plt.tight_layout()\n",
    "plt.show()"
   ]
  },
  {
   "cell_type": "markdown",
   "id": "2d48b476-799c-4b78-aeb5-7e60df729edd",
   "metadata": {},
   "source": [
    "#### **Inference : Model generalizes well on unseen data**"
   ]
  }
 ],
 "metadata": {
  "kernelspec": {
   "display_name": "Python [conda env:tf_gpu]",
   "language": "python",
   "name": "conda-env-tf_gpu-py"
  },
  "language_info": {
   "codemirror_mode": {
    "name": "ipython",
    "version": 3
   },
   "file_extension": ".py",
   "mimetype": "text/x-python",
   "name": "python",
   "nbconvert_exporter": "python",
   "pygments_lexer": "ipython3",
   "version": "3.10.16"
  }
 },
 "nbformat": 4,
 "nbformat_minor": 5
}
